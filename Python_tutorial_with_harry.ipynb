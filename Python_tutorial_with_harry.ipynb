{
  "nbformat": 4,
  "nbformat_minor": 0,
  "metadata": {
    "colab": {
      "name": "Python tutorial with harry.ipynb",
      "provenance": [],
      "authorship_tag": "ABX9TyM/KJ4jrOxD4msRzvtQgA+y",
      "include_colab_link": true
    },
    "kernelspec": {
      "name": "python3",
      "display_name": "Python 3"
    },
    "language_info": {
      "name": "python"
    }
  },
  "cells": [
    {
      "cell_type": "markdown",
      "metadata": {
        "id": "view-in-github",
        "colab_type": "text"
      },
      "source": [
        "<a href=\"https://colab.research.google.com/github/vishalmaurya11/Python/blob/main/Python_tutorial_with_harry.ipynb\" target=\"_parent\"><img src=\"https://colab.research.google.com/assets/colab-badge.svg\" alt=\"Open In Colab\"/></a>"
      ]
    },
    {
      "cell_type": "code",
      "source": [
        "print(\"Hello World\")"
      ],
      "metadata": {
        "colab": {
          "base_uri": "https://localhost:8080/"
        },
        "id": "M0MHDHXUlQik",
        "outputId": "dae90064-812a-422f-ebd0-49e0a5f80107"
      },
      "execution_count": 1,
      "outputs": [
        {
          "output_type": "stream",
          "name": "stdout",
          "text": [
            "Hello World\n"
          ]
        }
      ]
    },
    {
      "cell_type": "code",
      "source": [
        "print('''Twinkle Twinklw Little star,\n",
        "        How i wonder what you are''')      #''' If we have to print more than one line string we use (''' ''')'''"
      ],
      "metadata": {
        "colab": {
          "base_uri": "https://localhost:8080/"
        },
        "id": "K2LkVFaKlQl0",
        "outputId": "98db82ce-d397-451f-ed5b-cca66d41e1e9"
      },
      "execution_count": 3,
      "outputs": [
        {
          "output_type": "stream",
          "name": "stdout",
          "text": [
            "Twinkle Twinklw Little star,\n",
            "        How i wonder what you are\n"
          ]
        }
      ]
    },
    {
      "cell_type": "code",
      "source": [
        "a=10\n",
        "b=\"Hey Vishal\"\n",
        "type(a)         # type is used to find the datatype of a given variable\n"
      ],
      "metadata": {
        "colab": {
          "base_uri": "https://localhost:8080/"
        },
        "id": "ger_vp3blQpJ",
        "outputId": "01baed2a-c2db-4361-909b-50e7860d25ee"
      },
      "execution_count": 5,
      "outputs": [
        {
          "output_type": "execute_result",
          "data": {
            "text/plain": [
              "int"
            ]
          },
          "metadata": {},
          "execution_count": 5
        }
      ]
    },
    {
      "cell_type": "code",
      "source": [
        "#type casting\n",
        "str(31)=\"31\""
      ],
      "metadata": {
        "id": "eJET2NwfrMKT"
      },
      "execution_count": null,
      "outputs": []
    },
    {
      "cell_type": "code",
      "source": [
        "# input() always take input from users as String\n",
        "a=input(\"Enter your name\")\n",
        "print(a)\n",
        "type(a)"
      ],
      "metadata": {
        "colab": {
          "base_uri": "https://localhost:8080/"
        },
        "id": "gi9AQDxvrMHj",
        "outputId": "e71b1502-5cde-4e13-f1a0-96b951c5625f"
      },
      "execution_count": 7,
      "outputs": [
        {
          "output_type": "stream",
          "name": "stdout",
          "text": [
            "Enter your nameVishal\n",
            "Vishal\n"
          ]
        },
        {
          "output_type": "execute_result",
          "data": {
            "text/plain": [
              "str"
            ]
          },
          "metadata": {},
          "execution_count": 7
        }
      ]
    },
    {
      "cell_type": "code",
      "source": [
        "#String slicing is just as substring\n",
        "# first index is included while last index is not included\n",
        "a=input(\"Enter a string \")\n",
        "sl=a[0:5]\n",
        "print(sl)\n",
        "\n",
        "#negative index can also be used\n"
      ],
      "metadata": {
        "colab": {
          "base_uri": "https://localhost:8080/"
        },
        "id": "3vrkS6y3rMEY",
        "outputId": "01fd38ae-012f-4c43-a42b-2907d0a78992"
      },
      "execution_count": 10,
      "outputs": [
        {
          "output_type": "stream",
          "name": "stdout",
          "text": [
            "Enter a string Hey are you there\n",
            "Hey a\n",
            "\n"
          ]
        }
      ]
    },
    {
      "cell_type": "code",
      "source": [
        "a=input(\"Enter a string \")\n",
        "sw=a[:-1]\n",
        "print(sw)"
      ],
      "metadata": {
        "colab": {
          "base_uri": "https://localhost:8080/"
        },
        "id": "FX63MZqarMBM",
        "outputId": "4cb8800e-63de-4156-ad81-2475f8232fd9"
      },
      "execution_count": 12,
      "outputs": [
        {
          "output_type": "stream",
          "name": "stdout",
          "text": [
            "Enter a string vishal\n",
            "visha\n"
          ]
        }
      ]
    },
    {
      "cell_type": "code",
      "source": [
        "a=input(\"Enter \")\n",
        "print(len(a))\n",
        "print(a.endswith(\"al\"))\n",
        "print(a.count(\"i\"))\n",
        "print(a.capitalize())    # capitalize the first letter of a string\n",
        "print(a.find(\"s\"))        # returns the index of the word\n",
        "print(a.replace(\"s\",\"q\"))"
      ],
      "metadata": {
        "colab": {
          "base_uri": "https://localhost:8080/"
        },
        "id": "tpseriywsrHh",
        "outputId": "99b99072-afa4-49d5-88a6-100d1217bd07"
      },
      "execution_count": 20,
      "outputs": [
        {
          "output_type": "stream",
          "name": "stdout",
          "text": [
            "Enter vishal\n",
            "6\n",
            "True\n",
            "1\n",
            "Vishal\n",
            "2\n",
            "viqhal\n"
          ]
        }
      ]
    },
    {
      "cell_type": "code",
      "source": [
        "'''\n",
        "list are containers to store a set of values of any data type\n",
        "Indexing are done just like a string\n",
        "'''\n",
        "friend=[\"vishal\",\"Satyam\",\"Vikas\",\"Arun\",\"Manjeet\"]\n",
        "num=[1,4,3,5,8,3,5]\n",
        "print(friend)\n",
        "friend.sort()\n",
        "print(friend)\n",
        "num.sort()\n",
        "print(num)\n",
        "num.reverse()\n",
        "print(num)\n",
        "num.append(7)\n",
        "print(num)\n",
        "num.insert(3,8)  #this will insert 8 at index 3\n",
        "print(num)\n",
        "num.pop(2)      # will delete element at index 2\n",
        "print(num)\n",
        "num.remove(7)    #will delete the emelemt 7\n",
        "print(num)"
      ],
      "metadata": {
        "colab": {
          "base_uri": "https://localhost:8080/"
        },
        "id": "ZPoCqvhTsrFE",
        "outputId": "c73c4148-db7b-4ca2-f4b6-e0cd54e4bcb2"
      },
      "execution_count": 30,
      "outputs": [
        {
          "output_type": "stream",
          "name": "stdout",
          "text": [
            "['vishal', 'Satyam', 'Vikas', 'Arun', 'Manjeet']\n",
            "['Arun', 'Manjeet', 'Satyam', 'Vikas', 'vishal']\n",
            "[1, 3, 3, 4, 5, 5, 8]\n",
            "[8, 5, 5, 4, 3, 3, 1]\n",
            "[8, 5, 5, 4, 3, 3, 1, 7]\n",
            "[8, 5, 5, 8, 4, 3, 3, 1, 7]\n",
            "[8, 5, 8, 4, 3, 3, 1, 7]\n",
            "[8, 5, 8, 4, 3, 3, 1]\n"
          ]
        }
      ]
    },
    {
      "cell_type": "code",
      "source": [
        " '''\n",
        " Tuple is an immutable data type in python\n",
        " once defined a tuple elements cant be altered or manipulated\n",
        " '''\n",
        " a=(1,4,6,7)\n",
        " a.count(1)   # return no. of times 1 occurs in a\n",
        " a.index(1) #return the index of first occurence of 1 in a"
      ],
      "metadata": {
        "colab": {
          "base_uri": "https://localhost:8080/"
        },
        "id": "ZQv-1DuZsrCi",
        "outputId": "6f6b3465-4a9d-4e23-9ed7-d4db1f79d15d"
      },
      "execution_count": 34,
      "outputs": [
        {
          "output_type": "execute_result",
          "data": {
            "text/plain": [
              "0"
            ]
          },
          "metadata": {},
          "execution_count": 34
        }
      ]
    },
    {
      "cell_type": "code",
      "source": [
        "l1=[]\n",
        "n=int(input(\"Enter the size of list:\"))\n",
        "for i in range(0,n):\n",
        "  a=input()\n",
        "  l1.append(a)\n",
        "print(l1)"
      ],
      "metadata": {
        "colab": {
          "base_uri": "https://localhost:8080/"
        },
        "id": "DJ6CBxP6xQWF",
        "outputId": "00ee7d6d-3b4e-4217-afba-8964ae53a795"
      },
      "execution_count": 37,
      "outputs": [
        {
          "output_type": "stream",
          "name": "stdout",
          "text": [
            "Enter the size of list:7\n",
            "banana\n",
            "papaya\n",
            "apple\n",
            "grapes\n",
            "pine apple\n",
            "pomegranate\n",
            "coconut\n",
            "['banana', 'papaya', 'apple', 'grapes', 'pine apple', 'pomegranate', 'coconut']\n"
          ]
        }
      ]
    },
    {
      "cell_type": "code",
      "source": [
        "l1=[]\n",
        "sum=0\n",
        "for i in range(0,6):\n",
        "  a=int(input())\n",
        "  sum=sum+a\n",
        "  l1.append(a)\n",
        "l1.sort()\n",
        "print(l1)\n",
        "print(sum)\n"
      ],
      "metadata": {
        "colab": {
          "base_uri": "https://localhost:8080/"
        },
        "id": "Zt_fazQCxQL6",
        "outputId": "1ebc596e-3ed0-4938-9919-5e68231d4ab5"
      },
      "execution_count": 41,
      "outputs": [
        {
          "output_type": "stream",
          "name": "stdout",
          "text": [
            "453\n",
            "5\n",
            "1\n",
            "2\n",
            "5\n",
            "6\n",
            "[1, 2, 5, 5, 6, 453]\n",
            "472\n"
          ]
        }
      ]
    },
    {
      "cell_type": "code",
      "source": [
        ""
      ],
      "metadata": {
        "id": "vf0zwIQbxQGB"
      },
      "execution_count": null,
      "outputs": []
    },
    {
      "cell_type": "code",
      "source": [
        ""
      ],
      "metadata": {
        "id": "fq8pBUH1xQCl"
      },
      "execution_count": null,
      "outputs": []
    }
  ]
}