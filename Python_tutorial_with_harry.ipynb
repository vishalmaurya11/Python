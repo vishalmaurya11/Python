{
  "nbformat": 4,
  "nbformat_minor": 0,
  "metadata": {
    "colab": {
      "name": "Python tutorial with harry.ipynb",
      "provenance": [],
      "authorship_tag": "ABX9TyO/wSj3ZdJxO1fqF5TCzdkv",
      "include_colab_link": true
    },
    "kernelspec": {
      "name": "python3",
      "display_name": "Python 3"
    },
    "language_info": {
      "name": "python"
    }
  },
  "cells": [
    {
      "cell_type": "markdown",
      "metadata": {
        "id": "view-in-github",
        "colab_type": "text"
      },
      "source": [
        "<a href=\"https://colab.research.google.com/github/vishalmaurya11/Python/blob/main/Python_tutorial_with_harry.ipynb\" target=\"_parent\"><img src=\"https://colab.research.google.com/assets/colab-badge.svg\" alt=\"Open In Colab\"/></a>"
      ]
    },
    {
      "cell_type": "code",
      "source": [
        "print(\"Hello World\")"
      ],
      "metadata": {
        "colab": {
          "base_uri": "https://localhost:8080/"
        },
        "id": "M0MHDHXUlQik",
        "outputId": "dae90064-812a-422f-ebd0-49e0a5f80107"
      },
      "execution_count": null,
      "outputs": [
        {
          "output_type": "stream",
          "name": "stdout",
          "text": [
            "Hello World\n"
          ]
        }
      ]
    },
    {
      "cell_type": "code",
      "source": [
        "print('''Twinkle Twinklw Little star,\n",
        "        How i wonder what you are''')      #''' If we have to print more than one line string we use (''' ''')'''"
      ],
      "metadata": {
        "colab": {
          "base_uri": "https://localhost:8080/"
        },
        "id": "K2LkVFaKlQl0",
        "outputId": "98db82ce-d397-451f-ed5b-cca66d41e1e9"
      },
      "execution_count": null,
      "outputs": [
        {
          "output_type": "stream",
          "name": "stdout",
          "text": [
            "Twinkle Twinklw Little star,\n",
            "        How i wonder what you are\n"
          ]
        }
      ]
    },
    {
      "cell_type": "code",
      "source": [
        "a=10\n",
        "b=\"Hey Vishal\"\n",
        "type(a)         # type is used to find the datatype of a given variable\n"
      ],
      "metadata": {
        "colab": {
          "base_uri": "https://localhost:8080/"
        },
        "id": "ger_vp3blQpJ",
        "outputId": "01baed2a-c2db-4361-909b-50e7860d25ee"
      },
      "execution_count": null,
      "outputs": [
        {
          "output_type": "execute_result",
          "data": {
            "text/plain": [
              "int"
            ]
          },
          "metadata": {},
          "execution_count": 5
        }
      ]
    },
    {
      "cell_type": "code",
      "source": [
        "#type casting\n",
        "str(31)=\"31\""
      ],
      "metadata": {
        "id": "eJET2NwfrMKT"
      },
      "execution_count": null,
      "outputs": []
    },
    {
      "cell_type": "code",
      "source": [
        "# input() always take input from users as String\n",
        "a=input(\"Enter your name\")\n",
        "print(a)\n",
        "type(a)"
      ],
      "metadata": {
        "colab": {
          "base_uri": "https://localhost:8080/"
        },
        "id": "gi9AQDxvrMHj",
        "outputId": "e71b1502-5cde-4e13-f1a0-96b951c5625f"
      },
      "execution_count": null,
      "outputs": [
        {
          "output_type": "stream",
          "name": "stdout",
          "text": [
            "Enter your nameVishal\n",
            "Vishal\n"
          ]
        },
        {
          "output_type": "execute_result",
          "data": {
            "text/plain": [
              "str"
            ]
          },
          "metadata": {},
          "execution_count": 7
        }
      ]
    },
    {
      "cell_type": "code",
      "source": [
        "#String slicing is just as substring\n",
        "# first index is included while last index is not included\n",
        "a=input(\"Enter a string \")\n",
        "sl=a[0:5]\n",
        "print(sl)\n",
        "\n",
        "#negative index can also be used\n"
      ],
      "metadata": {
        "colab": {
          "base_uri": "https://localhost:8080/"
        },
        "id": "3vrkS6y3rMEY",
        "outputId": "01fd38ae-012f-4c43-a42b-2907d0a78992"
      },
      "execution_count": null,
      "outputs": [
        {
          "output_type": "stream",
          "name": "stdout",
          "text": [
            "Enter a string Hey are you there\n",
            "Hey a\n",
            "\n"
          ]
        }
      ]
    },
    {
      "cell_type": "code",
      "source": [
        "a=input(\"Enter a string \")\n",
        "sw=a[:-1]\n",
        "print(sw)"
      ],
      "metadata": {
        "colab": {
          "base_uri": "https://localhost:8080/"
        },
        "id": "FX63MZqarMBM",
        "outputId": "4cb8800e-63de-4156-ad81-2475f8232fd9"
      },
      "execution_count": null,
      "outputs": [
        {
          "output_type": "stream",
          "name": "stdout",
          "text": [
            "Enter a string vishal\n",
            "visha\n"
          ]
        }
      ]
    },
    {
      "cell_type": "code",
      "source": [
        "a=input(\"Enter \")\n",
        "print(len(a))\n",
        "print(a.endswith(\"al\"))\n",
        "print(a.count(\"i\"))\n",
        "print(a.capitalize())    # capitalize the first letter of a string\n",
        "print(a.find(\"s\"))        # returns the index of the word\n",
        "print(a.replace(\"s\",\"q\"))"
      ],
      "metadata": {
        "colab": {
          "base_uri": "https://localhost:8080/"
        },
        "id": "tpseriywsrHh",
        "outputId": "99b99072-afa4-49d5-88a6-100d1217bd07"
      },
      "execution_count": null,
      "outputs": [
        {
          "output_type": "stream",
          "name": "stdout",
          "text": [
            "Enter vishal\n",
            "6\n",
            "True\n",
            "1\n",
            "Vishal\n",
            "2\n",
            "viqhal\n"
          ]
        }
      ]
    },
    {
      "cell_type": "code",
      "source": [
        "'''\n",
        "list are containers to store a set of values of any data type\n",
        "Indexing are done just like a string\n",
        "'''\n",
        "friend=[\"vishal\",\"Satyam\",\"Vikas\",\"Arun\",\"Manjeet\"]\n",
        "num=[1,4,3,5,8,3,5]\n",
        "print(friend)\n",
        "friend.sort()\n",
        "print(friend)\n",
        "num.sort()\n",
        "print(num)\n",
        "num.reverse()\n",
        "print(num)\n",
        "num.append(7)\n",
        "print(num)\n",
        "num.insert(3,8)  #this will insert 8 at index 3\n",
        "print(num)\n",
        "num.pop(2)      # will delete element at index 2\n",
        "print(num)\n",
        "num.remove(7)    #will delete the emelemt 7\n",
        "print(num)"
      ],
      "metadata": {
        "colab": {
          "base_uri": "https://localhost:8080/"
        },
        "id": "ZPoCqvhTsrFE",
        "outputId": "c73c4148-db7b-4ca2-f4b6-e0cd54e4bcb2"
      },
      "execution_count": null,
      "outputs": [
        {
          "output_type": "stream",
          "name": "stdout",
          "text": [
            "['vishal', 'Satyam', 'Vikas', 'Arun', 'Manjeet']\n",
            "['Arun', 'Manjeet', 'Satyam', 'Vikas', 'vishal']\n",
            "[1, 3, 3, 4, 5, 5, 8]\n",
            "[8, 5, 5, 4, 3, 3, 1]\n",
            "[8, 5, 5, 4, 3, 3, 1, 7]\n",
            "[8, 5, 5, 8, 4, 3, 3, 1, 7]\n",
            "[8, 5, 8, 4, 3, 3, 1, 7]\n",
            "[8, 5, 8, 4, 3, 3, 1]\n"
          ]
        }
      ]
    },
    {
      "cell_type": "code",
      "source": [
        " '''\n",
        " Tuple is an immutable data type in python\n",
        " once defined a tuple elements cant be altered or manipulated\n",
        " '''\n",
        " a=(1,4,6,7)\n",
        " a.count(1)   # return no. of times 1 occurs in a\n",
        " a.index(1) #return the index of first occurence of 1 in a"
      ],
      "metadata": {
        "colab": {
          "base_uri": "https://localhost:8080/"
        },
        "id": "ZQv-1DuZsrCi",
        "outputId": "6f6b3465-4a9d-4e23-9ed7-d4db1f79d15d"
      },
      "execution_count": null,
      "outputs": [
        {
          "output_type": "execute_result",
          "data": {
            "text/plain": [
              "0"
            ]
          },
          "metadata": {},
          "execution_count": 34
        }
      ]
    },
    {
      "cell_type": "code",
      "source": [
        "l1=[]\n",
        "n=int(input(\"Enter the size of list:\"))\n",
        "for i in range(0,n):\n",
        "  a=input()\n",
        "  l1.append(a)\n",
        "print(l1)"
      ],
      "metadata": {
        "colab": {
          "base_uri": "https://localhost:8080/"
        },
        "id": "DJ6CBxP6xQWF",
        "outputId": "00ee7d6d-3b4e-4217-afba-8964ae53a795"
      },
      "execution_count": null,
      "outputs": [
        {
          "output_type": "stream",
          "name": "stdout",
          "text": [
            "Enter the size of list:7\n",
            "banana\n",
            "papaya\n",
            "apple\n",
            "grapes\n",
            "pine apple\n",
            "pomegranate\n",
            "coconut\n",
            "['banana', 'papaya', 'apple', 'grapes', 'pine apple', 'pomegranate', 'coconut']\n"
          ]
        }
      ]
    },
    {
      "cell_type": "code",
      "source": [
        "l1=[]\n",
        "sum=0\n",
        "for i in range(0,6):\n",
        "  a=int(input())\n",
        "  sum=sum+a\n",
        "  l1.append(a)\n",
        "l1.sort()\n",
        "print(l1)\n",
        "print(sum)\n"
      ],
      "metadata": {
        "colab": {
          "base_uri": "https://localhost:8080/"
        },
        "id": "Zt_fazQCxQL6",
        "outputId": "1ebc596e-3ed0-4938-9919-5e68231d4ab5"
      },
      "execution_count": null,
      "outputs": [
        {
          "output_type": "stream",
          "name": "stdout",
          "text": [
            "453\n",
            "5\n",
            "1\n",
            "2\n",
            "5\n",
            "6\n",
            "[1, 2, 5, 5, 6, 453]\n",
            "472\n"
          ]
        }
      ]
    },
    {
      "cell_type": "code",
      "source": [
        "a=(7,0,8,0,0,9)\n",
        "\n",
        "print(a.count(0))"
      ],
      "metadata": {
        "id": "vf0zwIQbxQGB",
        "outputId": "0a6cbe8d-6702-431e-f1ff-4b3484692e89",
        "colab": {
          "base_uri": "https://localhost:8080/"
        }
      },
      "execution_count": null,
      "outputs": [
        {
          "output_type": "stream",
          "name": "stdout",
          "text": [
            "3\n"
          ]
        }
      ]
    },
    {
      "cell_type": "code",
      "source": [
        "#Dictionary\n",
        "#it is a collection of keyvalue pair\n",
        "a={\"name\":\"vishal\",\"roll\":\"64\",\"address\":\"Sandila\"}\n",
        "print(a[\"name\"])\n",
        "print(a.items())\n",
        "print(a.keys())\n",
        "a.update({\"college\":\"LNCT\"})\n",
        "print(a.items())\n",
        "print(a.get(\"roll\"))"
      ],
      "metadata": {
        "id": "fq8pBUH1xQCl",
        "outputId": "300b3656-5ce9-4ec4-93fa-6ffba2457882",
        "colab": {
          "base_uri": "https://localhost:8080/"
        }
      },
      "execution_count": null,
      "outputs": [
        {
          "output_type": "stream",
          "name": "stdout",
          "text": [
            "vishal\n",
            "dict_items([('name', 'vishal'), ('roll', '64'), ('address', 'Sandila')])\n",
            "dict_keys(['name', 'roll', 'address'])\n",
            "dict_items([('name', 'vishal'), ('roll', '64'), ('address', 'Sandila'), ('college', 'LNCT')])\n",
            "64\n"
          ]
        }
      ]
    },
    {
      "cell_type": "code",
      "source": [
        "# sets\n",
        "# it is a  collection of non-repeatitive elements\n",
        "# it is unordered,unindexed,no way to change items in set\n",
        "s={1,8,2,3}\n",
        "print(len(s))\n",
        "s.remove(8)\n",
        "print(s)\n",
        "print(s.pop())    # removes the arbitary element\n",
        "print(s.union({11,8}))\n",
        "print(s.intersection({8,11}))"
      ],
      "metadata": {
        "id": "NKpUEScvMMmT",
        "outputId": "a6fd7363-50a7-4ffd-b25a-e74fb1596b04",
        "colab": {
          "base_uri": "https://localhost:8080/"
        }
      },
      "execution_count": null,
      "outputs": [
        {
          "output_type": "stream",
          "name": "stdout",
          "text": [
            "4\n",
            "{1, 2, 3}\n",
            "1\n",
            "{8, 11, 2, 3}\n",
            "set()\n"
          ]
        }
      ]
    },
    {
      "cell_type": "code",
      "source": [
        "#practice set 5\n",
        "'''1)))))\n",
        "s=set()5\n",
        "for i in range(0,8):\n",
        "  s.add(int(input(\"Enter a no.\")))\n",
        "print(s)'''\n",
        "''' 2))))\n",
        "s={}\n",
        "print(type(s))\n",
        "'''\n",
        "a={\"name\":\"vishal\",\"roll\":\"64\",\"address\":\"Sandila\",\"name1\":\"vishal\"}\n",
        "print(a)"
      ],
      "metadata": {
        "id": "1uE2BCDxMMX8",
        "outputId": "54a9694d-195d-4cd5-aa05-0f14ce55743d",
        "colab": {
          "base_uri": "https://localhost:8080/"
        }
      },
      "execution_count": null,
      "outputs": [
        {
          "output_type": "stream",
          "name": "stdout",
          "text": [
            "{'name': 'vishal', 'roll': '64', 'address': 'Sandila', 'name1': 'vishal'}\n"
          ]
        }
      ]
    },
    {
      "cell_type": "code",
      "source": [
        "#conditional statements\n",
        "a=int(input(\"Enter your age\"))\n",
        "if(a>=18):\n",
        "  print(\"yes\")\n",
        "else :\n",
        "  print(\"no\")"
      ],
      "metadata": {
        "id": "2hU24ewtMMUi",
        "outputId": "3c03bee6-e050-4ee9-d104-1eb1b2cf92d4",
        "colab": {
          "base_uri": "https://localhost:8080/"
        }
      },
      "execution_count": null,
      "outputs": [
        {
          "output_type": "stream",
          "name": "stdout",
          "text": [
            "Enter your age20\n",
            "yes\n"
          ]
        }
      ]
    },
    {
      "cell_type": "code",
      "source": [
        "#find greatest in 4 no.\n",
        "l=[None]*4\n",
        "for i in range(0,4,1):\n",
        "  l[i]=int(input(\"Enter a no\"))\n",
        "l.sort();\n",
        "print(l[3])"
      ],
      "metadata": {
        "id": "ekeNjY4xSow0",
        "outputId": "74a9fbd2-2835-4ac3-eabe-3a3304a53d03",
        "colab": {
          "base_uri": "https://localhost:8080/"
        }
      },
      "execution_count": null,
      "outputs": [
        {
          "output_type": "stream",
          "name": "stdout",
          "text": [
            "Enter a no5\n",
            "Enter a no6\n",
            "Enter a no9\n",
            "Enter a no2\n",
            "9\n"
          ]
        }
      ]
    },
    {
      "cell_type": "code",
      "source": [
        "s=input(\"Enter you name\")\n",
        "if(len(s)>10):\n",
        "  print(\"yes\")\n",
        "else:\n",
        "  print(\"no\")"
      ],
      "metadata": {
        "id": "yf7OQHQkSonv",
        "outputId": "b8d2c605-1766-49c4-ea8c-c234229bd6c2",
        "colab": {
          "base_uri": "https://localhost:8080/"
        }
      },
      "execution_count": null,
      "outputs": [
        {
          "output_type": "stream",
          "name": "stdout",
          "text": [
            "Enter you namevishalmaurya\n",
            "yes\n"
          ]
        }
      ]
    },
    {
      "cell_type": "code",
      "source": [
        "# loops in python\n",
        "n=1\n",
        "while(n<50):\n",
        "  print(n)\n",
        "  n=n+1"
      ],
      "metadata": {
        "id": "2UZD2CADSoi9",
        "outputId": "df161ef5-ed1a-4dfd-8755-7ae5a77671dd",
        "colab": {
          "base_uri": "https://localhost:8080/"
        }
      },
      "execution_count": null,
      "outputs": [
        {
          "output_type": "stream",
          "name": "stdout",
          "text": [
            "1\n",
            "2\n",
            "3\n",
            "4\n",
            "5\n",
            "6\n",
            "7\n",
            "8\n",
            "9\n",
            "10\n",
            "11\n",
            "12\n",
            "13\n",
            "14\n",
            "15\n",
            "16\n",
            "17\n",
            "18\n",
            "19\n",
            "20\n",
            "21\n",
            "22\n",
            "23\n",
            "24\n",
            "25\n",
            "26\n",
            "27\n",
            "28\n",
            "29\n",
            "30\n",
            "31\n",
            "32\n",
            "33\n",
            "34\n",
            "35\n",
            "36\n",
            "37\n",
            "38\n",
            "39\n",
            "40\n",
            "41\n",
            "42\n",
            "43\n",
            "44\n",
            "45\n",
            "46\n",
            "47\n",
            "48\n",
            "49\n"
          ]
        }
      ]
    },
    {
      "cell_type": "code",
      "source": [
        ""
      ],
      "metadata": {
        "id": "lZFQZqXjDuZ_"
      },
      "execution_count": null,
      "outputs": []
    },
    {
      "cell_type": "markdown",
      "source": [
        "chapter 7 practice set"
      ],
      "metadata": {
        "id": "uNUdp8gHFS0u"
      }
    },
    {
      "cell_type": "code",
      "source": [
        "a=int(input(\"Enter a no.\"))\n",
        "for i in range(1,11,1):\n",
        "  print(i*a)"
      ],
      "metadata": {
        "id": "NRG2gDj0VSUr",
        "outputId": "4ac0b765-9481-49fd-c434-73b77db4cdbb",
        "colab": {
          "base_uri": "https://localhost:8080/"
        }
      },
      "execution_count": 3,
      "outputs": [
        {
          "output_type": "stream",
          "name": "stdout",
          "text": [
            "Enter a no.6\n",
            "6\n",
            "12\n",
            "18\n",
            "24\n",
            "30\n",
            "36\n",
            "42\n",
            "48\n",
            "54\n",
            "60\n"
          ]
        }
      ]
    },
    {
      "cell_type": "code",
      "source": [
        "l=[\"harry\",\"sameer\",\"shiva\",\"ravi\",\"abhisek\"]\n",
        "for i in l:\n",
        "  if(i.startswith(\"s\")):\n",
        "    print(i)\n",
        "  "
      ],
      "metadata": {
        "id": "Pes4p9qaDs-o",
        "outputId": "79174db3-dc51-42df-bd28-82b2ed719367",
        "colab": {
          "base_uri": "https://localhost:8080/"
        }
      },
      "execution_count": 5,
      "outputs": [
        {
          "output_type": "stream",
          "name": "stdout",
          "text": [
            "sameer\n",
            "shiva\n"
          ]
        }
      ]
    },
    {
      "cell_type": "code",
      "source": [
        "a=int(input(\"Enter a no\"))\n",
        "count=0\n",
        "for i in range(2,a):\n",
        "  if(a%i==0):\n",
        "    count=count+1\n",
        "if(count>0):\n",
        "  print(\"a is not prime\")\n",
        "else:\n",
        "  print(\"a is prime\")"
      ],
      "metadata": {
        "id": "umN7VC9ADs8C",
        "outputId": "f08ca558-a918-4722-e9d8-f80956f5ff5e",
        "colab": {
          "base_uri": "https://localhost:8080/"
        }
      },
      "execution_count": 7,
      "outputs": [
        {
          "output_type": "stream",
          "name": "stdout",
          "text": [
            "Enter a no4\n",
            "a is not prime\n"
          ]
        }
      ]
    },
    {
      "cell_type": "markdown",
      "source": [
        "Chapter 8\n",
        "functions  and recursion"
      ],
      "metadata": {
        "id": "tksdeHbnJgKI"
      }
    },
    {
      "cell_type": "code",
      "source": [
        "def greet():\n",
        "  gr=\"good day\"\n",
        "  return gr\n",
        "print(greet())"
      ],
      "metadata": {
        "id": "k4fM5qetDs43",
        "outputId": "6c1459f1-62d4-46bc-f9dc-a3ca5ba8c39e",
        "colab": {
          "base_uri": "https://localhost:8080/"
        }
      },
      "execution_count": 14,
      "outputs": [
        {
          "output_type": "stream",
          "name": "stdout",
          "text": [
            "good day\n"
          ]
        }
      ]
    },
    {
      "cell_type": "code",
      "source": [
        "def greet(name):\n",
        "  gr=\"Hello\"+name\n",
        "  return gr\n",
        "print(greet(\"vishal\"))"
      ],
      "metadata": {
        "id": "cGSPcwBgK_81",
        "outputId": "9e02544a-1283-4fb9-ffcc-3848229e9d4c",
        "colab": {
          "base_uri": "https://localhost:8080/"
        }
      },
      "execution_count": 15,
      "outputs": [
        {
          "output_type": "stream",
          "name": "stdout",
          "text": [
            "Hellovishal\n"
          ]
        }
      ]
    },
    {
      "cell_type": "code",
      "source": [
        "def greet(name=\"Stranger\"):\n",
        "  gr=\"hello\"+name\n",
        "  return gr\n",
        "print(greet())\n",
        "print(greet(\"vishal\"))"
      ],
      "metadata": {
        "id": "zvD9V8-nK_5f",
        "outputId": "d70b72b6-78e1-4be1-ddbc-b771334a2e18",
        "colab": {
          "base_uri": "https://localhost:8080/"
        }
      },
      "execution_count": 16,
      "outputs": [
        {
          "output_type": "stream",
          "name": "stdout",
          "text": [
            "helloStranger\n",
            "hellovishal\n"
          ]
        }
      ]
    },
    {
      "cell_type": "code",
      "source": [
        "# recursion\n",
        "def recursion(n):\n",
        "  if(n==0 or n==1):\n",
        "    return 1\n",
        "  else:\n",
        "    return n*recursion(n-1)\n",
        "print(recursion(5))"
      ],
      "metadata": {
        "id": "jFubCyKXK_1y",
        "outputId": "54929087-215c-4911-c2fc-1efc16ec8469",
        "colab": {
          "base_uri": "https://localhost:8080/"
        }
      },
      "execution_count": 18,
      "outputs": [
        {
          "output_type": "stream",
          "name": "stdout",
          "text": [
            "120\n"
          ]
        }
      ]
    },
    {
      "cell_type": "markdown",
      "source": [
        "chapter 8 practice set"
      ],
      "metadata": {
        "id": "aJlyaTOvMVIP"
      }
    },
    {
      "cell_type": "code",
      "source": [
        "def greatest(a,b,c):\n",
        "  if(a>b or a>c):\n",
        "    return a\n",
        "  elif(b>a or b>c):\n",
        "    return b\n",
        "  else:\n",
        "    return c\n",
        "print(greatest(10,5,9))"
      ],
      "metadata": {
        "id": "s4fXj1avK_yP",
        "outputId": "c9c1e37d-9bb6-4c3f-92fa-f0772098a41a",
        "colab": {
          "base_uri": "https://localhost:8080/"
        }
      },
      "execution_count": 19,
      "outputs": [
        {
          "output_type": "stream",
          "name": "stdout",
          "text": [
            "10\n"
          ]
        }
      ]
    },
    {
      "cell_type": "code",
      "source": [
        "def sum(n):\n",
        "  if(n==0 ):  return 0\n",
        "  else: return n+sum(n-1)\n",
        "print(sum(5))"
      ],
      "metadata": {
        "id": "Z9hd3ZrnMVr4",
        "outputId": "933cf32b-e027-45dd-cd29-0d62fb40ba62",
        "colab": {
          "base_uri": "https://localhost:8080/"
        }
      },
      "execution_count": 21,
      "outputs": [
        {
          "output_type": "stream",
          "name": "stdout",
          "text": [
            "15\n"
          ]
        }
      ]
    },
    {
      "cell_type": "code",
      "source": [
        ""
      ],
      "metadata": {
        "id": "7XeqO8GbMWgq"
      },
      "execution_count": null,
      "outputs": []
    },
    {
      "cell_type": "code",
      "source": [
        ""
      ],
      "metadata": {
        "id": "EslGuuTaMWTs"
      },
      "execution_count": null,
      "outputs": []
    },
    {
      "cell_type": "code",
      "source": [
        ""
      ],
      "metadata": {
        "id": "SGn7h0kHMWQG"
      },
      "execution_count": null,
      "outputs": []
    }
  ]
}